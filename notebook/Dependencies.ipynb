{
 "cells": [
  {
   "cell_type": "code",
   "execution_count": 1,
   "id": "8c000bcc",
   "metadata": {},
   "outputs": [
    {
     "name": "stdout",
     "output_type": "stream",
     "text": [
      "Requirement already satisfied: tensorflow in /home/fabio/anaconda3/envs/MLEnvironment/lib/python3.9/site-packages (2.10.0)\n",
      "Requirement already satisfied: tensorboard<2.11,>=2.10 in /home/fabio/anaconda3/envs/MLEnvironment/lib/python3.9/site-packages (from tensorflow) (2.10.1)\n",
      "Requirement already satisfied: libclang>=13.0.0 in /home/fabio/anaconda3/envs/MLEnvironment/lib/python3.9/site-packages (from tensorflow) (14.0.6)\n",
      "Requirement already satisfied: keras<2.11,>=2.10.0 in /home/fabio/anaconda3/envs/MLEnvironment/lib/python3.9/site-packages (from tensorflow) (2.10.0)\n",
      "Requirement already satisfied: google-pasta>=0.1.1 in /home/fabio/anaconda3/envs/MLEnvironment/lib/python3.9/site-packages (from tensorflow) (0.2.0)\n",
      "Requirement already satisfied: grpcio<2.0,>=1.24.3 in /home/fabio/anaconda3/envs/MLEnvironment/lib/python3.9/site-packages (from tensorflow) (1.49.1)\n",
      "Requirement already satisfied: wrapt>=1.11.0 in /home/fabio/anaconda3/envs/MLEnvironment/lib/python3.9/site-packages (from tensorflow) (1.14.1)\n",
      "Requirement already satisfied: h5py>=2.9.0 in /home/fabio/anaconda3/envs/MLEnvironment/lib/python3.9/site-packages (from tensorflow) (3.7.0)\n",
      "Requirement already satisfied: keras-preprocessing>=1.1.1 in /home/fabio/anaconda3/envs/MLEnvironment/lib/python3.9/site-packages (from tensorflow) (1.1.2)\n",
      "Requirement already satisfied: protobuf<3.20,>=3.9.2 in /home/fabio/anaconda3/envs/MLEnvironment/lib/python3.9/site-packages (from tensorflow) (3.19.6)\n",
      "Requirement already satisfied: flatbuffers>=2.0 in /home/fabio/anaconda3/envs/MLEnvironment/lib/python3.9/site-packages (from tensorflow) (2.0.7)\n",
      "Requirement already satisfied: numpy>=1.20 in /home/fabio/anaconda3/envs/MLEnvironment/lib/python3.9/site-packages (from tensorflow) (1.23.3)\n",
      "Requirement already satisfied: six>=1.12.0 in /home/fabio/anaconda3/envs/MLEnvironment/lib/python3.9/site-packages (from tensorflow) (1.16.0)\n",
      "Requirement already satisfied: gast<=0.4.0,>=0.2.1 in /home/fabio/anaconda3/envs/MLEnvironment/lib/python3.9/site-packages (from tensorflow) (0.4.0)\n",
      "Requirement already satisfied: tensorflow-io-gcs-filesystem>=0.23.1 in /home/fabio/anaconda3/envs/MLEnvironment/lib/python3.9/site-packages (from tensorflow) (0.27.0)\n",
      "Requirement already satisfied: opt-einsum>=2.3.2 in /home/fabio/anaconda3/envs/MLEnvironment/lib/python3.9/site-packages (from tensorflow) (3.3.0)\n",
      "Requirement already satisfied: termcolor>=1.1.0 in /home/fabio/anaconda3/envs/MLEnvironment/lib/python3.9/site-packages (from tensorflow) (2.0.1)\n",
      "Requirement already satisfied: setuptools in /home/fabio/anaconda3/envs/MLEnvironment/lib/python3.9/site-packages (from tensorflow) (63.4.1)\n",
      "Requirement already satisfied: absl-py>=1.0.0 in /home/fabio/anaconda3/envs/MLEnvironment/lib/python3.9/site-packages (from tensorflow) (1.2.0)\n",
      "Requirement already satisfied: typing-extensions>=3.6.6 in /home/fabio/anaconda3/envs/MLEnvironment/lib/python3.9/site-packages (from tensorflow) (4.3.0)\n",
      "Requirement already satisfied: astunparse>=1.6.0 in /home/fabio/anaconda3/envs/MLEnvironment/lib/python3.9/site-packages (from tensorflow) (1.6.3)\n",
      "Requirement already satisfied: tensorflow-estimator<2.11,>=2.10.0 in /home/fabio/anaconda3/envs/MLEnvironment/lib/python3.9/site-packages (from tensorflow) (2.10.0)\n",
      "Requirement already satisfied: packaging in /home/fabio/anaconda3/envs/MLEnvironment/lib/python3.9/site-packages (from tensorflow) (21.3)\n",
      "Requirement already satisfied: wheel<1.0,>=0.23.0 in /home/fabio/anaconda3/envs/MLEnvironment/lib/python3.9/site-packages (from astunparse>=1.6.0->tensorflow) (0.37.1)\n",
      "Requirement already satisfied: tensorboard-data-server<0.7.0,>=0.6.0 in /home/fabio/anaconda3/envs/MLEnvironment/lib/python3.9/site-packages (from tensorboard<2.11,>=2.10->tensorflow) (0.6.1)\n",
      "Requirement already satisfied: werkzeug>=1.0.1 in /home/fabio/anaconda3/envs/MLEnvironment/lib/python3.9/site-packages (from tensorboard<2.11,>=2.10->tensorflow) (2.2.2)\n",
      "Requirement already satisfied: google-auth<3,>=1.6.3 in /home/fabio/anaconda3/envs/MLEnvironment/lib/python3.9/site-packages (from tensorboard<2.11,>=2.10->tensorflow) (2.12.0)\n",
      "Requirement already satisfied: tensorboard-plugin-wit>=1.6.0 in /home/fabio/anaconda3/envs/MLEnvironment/lib/python3.9/site-packages (from tensorboard<2.11,>=2.10->tensorflow) (1.8.1)\n",
      "Requirement already satisfied: requests<3,>=2.21.0 in /home/fabio/anaconda3/envs/MLEnvironment/lib/python3.9/site-packages (from tensorboard<2.11,>=2.10->tensorflow) (2.28.1)\n",
      "Requirement already satisfied: markdown>=2.6.8 in /home/fabio/anaconda3/envs/MLEnvironment/lib/python3.9/site-packages (from tensorboard<2.11,>=2.10->tensorflow) (3.4.1)\n",
      "Requirement already satisfied: google-auth-oauthlib<0.5,>=0.4.1 in /home/fabio/anaconda3/envs/MLEnvironment/lib/python3.9/site-packages (from tensorboard<2.11,>=2.10->tensorflow) (0.4.6)\n",
      "Requirement already satisfied: pyparsing!=3.0.5,>=2.0.2 in /home/fabio/anaconda3/envs/MLEnvironment/lib/python3.9/site-packages (from packaging->tensorflow) (3.0.9)\n",
      "Requirement already satisfied: cachetools<6.0,>=2.0.0 in /home/fabio/anaconda3/envs/MLEnvironment/lib/python3.9/site-packages (from google-auth<3,>=1.6.3->tensorboard<2.11,>=2.10->tensorflow) (5.2.0)\n",
      "Requirement already satisfied: pyasn1-modules>=0.2.1 in /home/fabio/anaconda3/envs/MLEnvironment/lib/python3.9/site-packages (from google-auth<3,>=1.6.3->tensorboard<2.11,>=2.10->tensorflow) (0.2.8)\n",
      "Requirement already satisfied: rsa<5,>=3.1.4 in /home/fabio/anaconda3/envs/MLEnvironment/lib/python3.9/site-packages (from google-auth<3,>=1.6.3->tensorboard<2.11,>=2.10->tensorflow) (4.9)\n",
      "Requirement already satisfied: requests-oauthlib>=0.7.0 in /home/fabio/anaconda3/envs/MLEnvironment/lib/python3.9/site-packages (from google-auth-oauthlib<0.5,>=0.4.1->tensorboard<2.11,>=2.10->tensorflow) (1.3.1)\n",
      "Requirement already satisfied: importlib-metadata>=4.4 in /home/fabio/anaconda3/envs/MLEnvironment/lib/python3.9/site-packages (from markdown>=2.6.8->tensorboard<2.11,>=2.10->tensorflow) (4.12.0)\n",
      "Requirement already satisfied: idna<4,>=2.5 in /home/fabio/anaconda3/envs/MLEnvironment/lib/python3.9/site-packages (from requests<3,>=2.21.0->tensorboard<2.11,>=2.10->tensorflow) (3.3)\n",
      "Requirement already satisfied: charset-normalizer<3,>=2 in /home/fabio/anaconda3/envs/MLEnvironment/lib/python3.9/site-packages (from requests<3,>=2.21.0->tensorboard<2.11,>=2.10->tensorflow) (2.0.4)\n",
      "Requirement already satisfied: certifi>=2017.4.17 in /home/fabio/anaconda3/envs/MLEnvironment/lib/python3.9/site-packages (from requests<3,>=2.21.0->tensorboard<2.11,>=2.10->tensorflow) (2022.9.14)\n",
      "Requirement already satisfied: urllib3<1.27,>=1.21.1 in /home/fabio/anaconda3/envs/MLEnvironment/lib/python3.9/site-packages (from requests<3,>=2.21.0->tensorboard<2.11,>=2.10->tensorflow) (1.26.11)\n",
      "Requirement already satisfied: MarkupSafe>=2.1.1 in /home/fabio/anaconda3/envs/MLEnvironment/lib/python3.9/site-packages (from werkzeug>=1.0.1->tensorboard<2.11,>=2.10->tensorflow) (2.1.1)\n",
      "Requirement already satisfied: zipp>=0.5 in /home/fabio/anaconda3/envs/MLEnvironment/lib/python3.9/site-packages (from importlib-metadata>=4.4->markdown>=2.6.8->tensorboard<2.11,>=2.10->tensorflow) (3.8.1)\n",
      "Requirement already satisfied: pyasn1<0.5.0,>=0.4.6 in /home/fabio/anaconda3/envs/MLEnvironment/lib/python3.9/site-packages (from pyasn1-modules>=0.2.1->google-auth<3,>=1.6.3->tensorboard<2.11,>=2.10->tensorflow) (0.4.8)\n",
      "Requirement already satisfied: oauthlib>=3.0.0 in /home/fabio/anaconda3/envs/MLEnvironment/lib/python3.9/site-packages (from requests-oauthlib>=0.7.0->google-auth-oauthlib<0.5,>=0.4.1->tensorboard<2.11,>=2.10->tensorflow) (3.2.1)\n"
     ]
    }
   ],
   "source": [
    "!pip install tensorflow"
   ]
  },
  {
   "cell_type": "code",
   "execution_count": 2,
   "id": "27d17404",
   "metadata": {},
   "outputs": [
    {
     "name": "stdout",
     "output_type": "stream",
     "text": [
      "Requirement already satisfied: matplotlib in /home/fabio/anaconda3/envs/MLEnvironment/lib/python3.9/site-packages (3.6.0)\n",
      "Requirement already satisfied: python-dateutil>=2.7 in /home/fabio/anaconda3/envs/MLEnvironment/lib/python3.9/site-packages (from matplotlib) (2.8.2)\n",
      "Requirement already satisfied: contourpy>=1.0.1 in /home/fabio/anaconda3/envs/MLEnvironment/lib/python3.9/site-packages (from matplotlib) (1.0.5)\n",
      "Requirement already satisfied: numpy>=1.19 in /home/fabio/anaconda3/envs/MLEnvironment/lib/python3.9/site-packages (from matplotlib) (1.23.3)\n",
      "Requirement already satisfied: kiwisolver>=1.0.1 in /home/fabio/anaconda3/envs/MLEnvironment/lib/python3.9/site-packages (from matplotlib) (1.4.4)\n",
      "Requirement already satisfied: pillow>=6.2.0 in /home/fabio/anaconda3/envs/MLEnvironment/lib/python3.9/site-packages (from matplotlib) (9.2.0)\n",
      "Requirement already satisfied: packaging>=20.0 in /home/fabio/anaconda3/envs/MLEnvironment/lib/python3.9/site-packages (from matplotlib) (21.3)\n",
      "Requirement already satisfied: pyparsing>=2.2.1 in /home/fabio/anaconda3/envs/MLEnvironment/lib/python3.9/site-packages (from matplotlib) (3.0.9)\n",
      "Requirement already satisfied: cycler>=0.10 in /home/fabio/anaconda3/envs/MLEnvironment/lib/python3.9/site-packages (from matplotlib) (0.11.0)\n",
      "Requirement already satisfied: fonttools>=4.22.0 in /home/fabio/anaconda3/envs/MLEnvironment/lib/python3.9/site-packages (from matplotlib) (4.37.4)\n",
      "Requirement already satisfied: six>=1.5 in /home/fabio/anaconda3/envs/MLEnvironment/lib/python3.9/site-packages (from python-dateutil>=2.7->matplotlib) (1.16.0)\n"
     ]
    }
   ],
   "source": [
    "!pip install matplotlib"
   ]
  },
  {
   "cell_type": "code",
   "execution_count": 3,
   "id": "4e308e72",
   "metadata": {},
   "outputs": [
    {
     "name": "stdout",
     "output_type": "stream",
     "text": [
      "Requirement already satisfied: tflite-runtime in /home/fabio/anaconda3/envs/MLEnvironment/lib/python3.9/site-packages (2.10.0)\r\n",
      "Requirement already satisfied: numpy>=1.19.2 in /home/fabio/anaconda3/envs/MLEnvironment/lib/python3.9/site-packages (from tflite-runtime) (1.23.3)\r\n"
     ]
    }
   ],
   "source": [
    "!pip install tflite-runtime"
   ]
  }
 ],
 "metadata": {
  "kernelspec": {
   "display_name": "Python 3 (ipykernel)",
   "language": "python",
   "name": "python3"
  },
  "language_info": {
   "codemirror_mode": {
    "name": "ipython",
    "version": 3
   },
   "file_extension": ".py",
   "mimetype": "text/x-python",
   "name": "python",
   "nbconvert_exporter": "python",
   "pygments_lexer": "ipython3",
   "version": "3.9.13"
  }
 },
 "nbformat": 4,
 "nbformat_minor": 5
}
